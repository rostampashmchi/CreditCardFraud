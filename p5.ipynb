{
  "nbformat": 4,
  "nbformat_minor": 0,
  "metadata": {
    "colab": {
      "provenance": []
    },
    "kernelspec": {
      "name": "python3",
      "display_name": "Python 3"
    },
    "language_info": {
      "name": "python"
    },
    "accelerator": "TPU"
  },
  "cells": [
    {
      "cell_type": "code",
      "execution_count": 1,
      "metadata": {
        "colab": {
          "base_uri": "https://localhost:8080/"
        },
        "id": "QP2zYt6l1MHm",
        "outputId": "6132d763-8996-46d3-8c43-09a865abfc7e"
      },
      "outputs": [
        {
          "output_type": "stream",
          "name": "stdout",
          "text": [
            "Mounted at /content/drive\n"
          ]
        }
      ],
      "source": [
        "from google.colab import drive\n",
        "drive.mount('/content/drive')"
      ]
    },
    {
      "cell_type": "code",
      "source": [
        "path= \"drive/MyDrive/ColabNotebooks/AI_Class/projects/p5/\"\n"
      ],
      "metadata": {
        "id": "8mgRWU0P6DVW"
      },
      "execution_count": 2,
      "outputs": []
    },
    {
      "cell_type": "code",
      "source": [
        "import pandas as pd\n",
        "import numpy as np\n",
        "from collections import Counter\n",
        "\n",
        "import matplotlib.pyplot as plt\n",
        "import seaborn as sns\n",
        "\n",
        "\n",
        "\n",
        "from sklearn.cluster import KMeans\n",
        "from sklearn.svm import SVC\n",
        "from sklearn.model_selection import GridSearchCV\n",
        "\n",
        "\n",
        "from sklearn.model_selection import train_test_split\n",
        "from sklearn import metrics\n",
        "from sklearn.metrics import classification_report, confusion_matrix\n",
        "from sklearn.preprocessing import MinMaxScaler"
      ],
      "metadata": {
        "id": "dd0TrLfw6PIk"
      },
      "execution_count": 3,
      "outputs": []
    },
    {
      "cell_type": "markdown",
      "source": [
        "**Read data**"
      ],
      "metadata": {
        "id": "E3rgWwJITczC"
      }
    },
    {
      "cell_type": "code",
      "source": [
        "df = pd.read_csv(path+\"creditcard.csv\")"
      ],
      "metadata": {
        "id": "n3ABD1WZ6tn5"
      },
      "execution_count": 4,
      "outputs": []
    },
    {
      "cell_type": "code",
      "source": [
        "df.info()"
      ],
      "metadata": {
        "colab": {
          "base_uri": "https://localhost:8080/"
        },
        "id": "yJCxITmSzTxl",
        "outputId": "e15dc181-5b5a-4908-83e4-74ef0228838b"
      },
      "execution_count": 5,
      "outputs": [
        {
          "output_type": "stream",
          "name": "stdout",
          "text": [
            "<class 'pandas.core.frame.DataFrame'>\n",
            "RangeIndex: 284807 entries, 0 to 284806\n",
            "Data columns (total 31 columns):\n",
            " #   Column  Non-Null Count   Dtype  \n",
            "---  ------  --------------   -----  \n",
            " 0   Time    284807 non-null  float64\n",
            " 1   V1      284807 non-null  float64\n",
            " 2   V2      284807 non-null  float64\n",
            " 3   V3      284807 non-null  float64\n",
            " 4   V4      284807 non-null  float64\n",
            " 5   V5      284807 non-null  float64\n",
            " 6   V6      284807 non-null  float64\n",
            " 7   V7      284807 non-null  float64\n",
            " 8   V8      284807 non-null  float64\n",
            " 9   V9      284807 non-null  float64\n",
            " 10  V10     284807 non-null  float64\n",
            " 11  V11     284807 non-null  float64\n",
            " 12  V12     284807 non-null  float64\n",
            " 13  V13     284807 non-null  float64\n",
            " 14  V14     284807 non-null  float64\n",
            " 15  V15     284807 non-null  float64\n",
            " 16  V16     284807 non-null  float64\n",
            " 17  V17     284807 non-null  float64\n",
            " 18  V18     284807 non-null  float64\n",
            " 19  V19     284807 non-null  float64\n",
            " 20  V20     284807 non-null  float64\n",
            " 21  V21     284807 non-null  float64\n",
            " 22  V22     284807 non-null  float64\n",
            " 23  V23     284807 non-null  float64\n",
            " 24  V24     284807 non-null  float64\n",
            " 25  V25     284807 non-null  float64\n",
            " 26  V26     284807 non-null  float64\n",
            " 27  V27     284807 non-null  float64\n",
            " 28  V28     284807 non-null  float64\n",
            " 29  Amount  284807 non-null  float64\n",
            " 30  Class   284807 non-null  int64  \n",
            "dtypes: float64(30), int64(1)\n",
            "memory usage: 67.4 MB\n"
          ]
        }
      ]
    },
    {
      "cell_type": "markdown",
      "source": [
        "**Check Null values**"
      ],
      "metadata": {
        "id": "N8_BoKk3TqN6"
      }
    },
    {
      "cell_type": "code",
      "source": [
        "print (df.isnull().sum())"
      ],
      "metadata": {
        "colab": {
          "base_uri": "https://localhost:8080/"
        },
        "id": "U-E94aJ5jCi4",
        "outputId": "2679b4d7-661c-4f2b-a463-764f63e1b5e8"
      },
      "execution_count": 6,
      "outputs": [
        {
          "output_type": "stream",
          "name": "stdout",
          "text": [
            "Time      0\n",
            "V1        0\n",
            "V2        0\n",
            "V3        0\n",
            "V4        0\n",
            "V5        0\n",
            "V6        0\n",
            "V7        0\n",
            "V8        0\n",
            "V9        0\n",
            "V10       0\n",
            "V11       0\n",
            "V12       0\n",
            "V13       0\n",
            "V14       0\n",
            "V15       0\n",
            "V16       0\n",
            "V17       0\n",
            "V18       0\n",
            "V19       0\n",
            "V20       0\n",
            "V21       0\n",
            "V22       0\n",
            "V23       0\n",
            "V24       0\n",
            "V25       0\n",
            "V26       0\n",
            "V27       0\n",
            "V28       0\n",
            "Amount    0\n",
            "Class     0\n",
            "dtype: int64\n"
          ]
        }
      ]
    },
    {
      "cell_type": "markdown",
      "source": [
        "**PrePare data for clustring**"
      ],
      "metadata": {
        "id": "iaNdnPMATyQS"
      }
    },
    {
      "cell_type": "code",
      "source": [
        "df_untouched = df.drop(columns='Class')\n",
        "labels_untouched = df['Class'].ravel()"
      ],
      "metadata": {
        "id": "e-f-fBPaqvny"
      },
      "execution_count": 7,
      "outputs": []
    },
    {
      "cell_type": "markdown",
      "source": [
        "**Find the dbest K for kmeans with elbow method**"
      ],
      "metadata": {
        "id": "q8Z-zrqiUAAy"
      }
    },
    {
      "cell_type": "code",
      "source": [
        "inertia_values = []\n",
        "for i in range(1, 5):\n",
        "    kmeans_clusterer = KMeans(n_clusters = i, init = 'random', random_state = 1)\n",
        "    kmeans_clusterer.fit(df_untouched)\n",
        "    inertia_values.append(kmeans_clusterer.inertia_)"
      ],
      "metadata": {
        "colab": {
          "base_uri": "https://localhost:8080/"
        },
        "id": "uFJLAKcTfDvJ",
        "outputId": "d26b429e-72a7-49e3-f3eb-11141667756a"
      },
      "execution_count": 8,
      "outputs": [
        {
          "output_type": "stream",
          "name": "stderr",
          "text": [
            "/usr/local/lib/python3.10/dist-packages/sklearn/cluster/_kmeans.py:870: FutureWarning: The default value of `n_init` will change from 10 to 'auto' in 1.4. Set the value of `n_init` explicitly to suppress the warning\n",
            "  warnings.warn(\n",
            "/usr/local/lib/python3.10/dist-packages/sklearn/cluster/_kmeans.py:870: FutureWarning: The default value of `n_init` will change from 10 to 'auto' in 1.4. Set the value of `n_init` explicitly to suppress the warning\n",
            "  warnings.warn(\n",
            "/usr/local/lib/python3.10/dist-packages/sklearn/cluster/_kmeans.py:870: FutureWarning: The default value of `n_init` will change from 10 to 'auto' in 1.4. Set the value of `n_init` explicitly to suppress the warning\n",
            "  warnings.warn(\n",
            "/usr/local/lib/python3.10/dist-packages/sklearn/cluster/_kmeans.py:870: FutureWarning: The default value of `n_init` will change from 10 to 'auto' in 1.4. Set the value of `n_init` explicitly to suppress the warning\n",
            "  warnings.warn(\n"
          ]
        }
      ]
    },
    {
      "cell_type": "code",
      "source": [
        "plt.figure(figsize=(1.25,0.75))\n",
        "plt.plot(\n",
        "    range(1, 5), inertia_values,\n",
        "    color = \"#42A5F5\",\n",
        "    linewidth = '1'\n",
        "    )\n",
        "plt.xticks(range(1,5))\n",
        "plt.xlabel('Number of clusters')\n",
        "plt.ylabel('Inertia')\n",
        "plt.show()"
      ],
      "metadata": {
        "colab": {
          "base_uri": "https://localhost:8080/",
          "height": 153
        },
        "id": "Yd0WXYG_ffdE",
        "outputId": "a215ccf7-a58f-43b4-c9cf-54471c1f44aa"
      },
      "execution_count": 9,
      "outputs": [
        {
          "output_type": "display_data",
          "data": {
            "text/plain": [
              "<Figure size 125x75 with 1 Axes>"
            ],
            "image/png": "[encoded data removed]"
          },
          "metadata": {}
        }
      ]
    },
    {
      "cell_type": "markdown",
      "source": [
        "**Train and Fit data to kmeans model**"
      ],
      "metadata": {
        "id": "-Guj-rHjUNCW"
      }
    },
    {
      "cell_type": "code",
      "source": [
        "kmeans= KMeans(n_clusters=2 , n_init='auto').fit(df_untouched)"
      ],
      "metadata": {
        "id": "B0MpFvSCRFae"
      },
      "execution_count": 10,
      "outputs": []
    },
    {
      "cell_type": "code",
      "source": [
        "sample_cluster_mask =kmeans.labels_\n"
      ],
      "metadata": {
        "id": "k8JDrZNzRWGX"
      },
      "execution_count": 11,
      "outputs": []
    },
    {
      "cell_type": "markdown",
      "source": [
        "**Evaluate model**"
      ],
      "metadata": {
        "id": "iiOSwZOaUVB2"
      }
    },
    {
      "cell_type": "code",
      "source": [
        "cf_matrix = metrics.cluster.contingency_matrix(labels_true=labels_untouched, labels_pred=sample_cluster_mask)\n",
        "plt.figure(figsize=(2,2))\n",
        "group_names = ['TN','FP','FN','TP']\n",
        "group_counts = ['{0:0.0f}'.format(value) for value in cf_matrix.flatten()]\n",
        "group_percentages = ['{0:.2%}'.format(value) for value in cf_matrix.flatten()/np.sum(cf_matrix)]\n",
        "labels_cf = [f'{v1}\\n{v2}\\n{v3}' for v1, v2, v3 in zip(group_names,group_counts,group_percentages)]\n",
        "labels_cf = np.asarray(labels_cf).reshape(2,2)\n",
        "sns.heatmap(cf_matrix, annot=labels_cf, fmt='', cmap='Blues')"
      ],
      "metadata": {
        "colab": {
          "base_uri": "https://localhost:8080/",
          "height": 235
        },
        "id": "4BGjQH5dsX5s",
        "outputId": "4de00e9d-fc34-4eef-c7a2-929b27ee1b02"
      },
      "execution_count": 12,
      "outputs": [
        {
          "output_type": "execute_result",
          "data": {
            "text/plain": [
              "<Axes: >"
            ]
          },
          "metadata": {},
          "execution_count": 12
        },
        {
          "output_type": "display_data",
          "data": {
            "text/plain": [
              "<Figure size 200x200 with 2 Axes>"
            ],
            "image/png": "[encoded data removed]"
          },
          "metadata": {}
        }
      ]
    },
    {
      "cell_type": "code",
      "source": [
        "print(f'Clustering purity: {np.sum(np.max(cf_matrix, axis=1)) / np.sum(cf_matrix)}')"
      ],
      "metadata": {
        "colab": {
          "base_uri": "https://localhost:8080/"
        },
        "id": "y5jj1gtDCXyl",
        "outputId": "fb7bebd5-79c0-440f-f48d-5f0ff5665636"
      },
      "execution_count": 13,
      "outputs": [
        {
          "output_type": "stream",
          "name": "stdout",
          "text": [
            "Clustering purity: 0.5377747035711903\n"
          ]
        }
      ]
    },
    {
      "cell_type": "markdown",
      "source": [
        "**prepare data for Classification**"
      ],
      "metadata": {
        "id": "Ko3SEgV5thqF"
      }
    },
    {
      "cell_type": "code",
      "source": [
        "X_train, X_test, y_train, y_test = train_test_split(df_untouched,labels_untouched, test_size=0.2, random_state=8)\n",
        "features = X_train.columns\n",
        "X_train = pd.DataFrame(X_train, columns=features)\n",
        "X_test = pd.DataFrame(X_test, columns=features)"
      ],
      "metadata": {
        "id": "2ViHKSFpjRvS"
      },
      "execution_count": 14,
      "outputs": []
    },
    {
      "cell_type": "code",
      "source": [
        "scaler = MinMaxScaler(feature_range=(-1,1))\n",
        "X_train = scaler.fit_transform(X_train)\n",
        "X_test = scaler.fit_transform(X_test)"
      ],
      "metadata": {
        "id": "ZkEzFGLetgo6"
      },
      "execution_count": 15,
      "outputs": []
    },
    {
      "cell_type": "markdown",
      "source": [
        "**Search for best SVM hyperparameter**"
      ],
      "metadata": {
        "id": "9t1JKcDrUgFV"
      }
    },
    {
      "cell_type": "code",
      "source": [
        "poly_param_combinations = {'kernel':['poly'], 'C':[0.1, 1.0, 10], 'gamma':[0.01, 0.1, 1.0, 10.0], 'degree':[3, 4, 5]}\n",
        "poly_svm_classifier = SVC()\n",
        "\n",
        "clf_poly = GridSearchCV(estimator=poly_svm_classifier, param_grid=poly_param_combinations, cv=5, scoring='accuracy', n_jobs=-1)\n",
        "clf_poly.fit(X_train, y_train)\n",
        "print(clf_poly.best_score_)\n",
        "print(clf_poly.best_params_)\n"
      ],
      "metadata": {
        "id": "gW5Wc1rlurKI"
      },
      "execution_count": null,
      "outputs": []
    },
    {
      "cell_type": "markdown",
      "source": [
        "**Train and Fit data to model**"
      ],
      "metadata": {
        "id": "ivkHCSPuUqfg"
      }
    },
    {
      "cell_type": "code",
      "source": [
        "opt_clf = SVC(kernel='poly', degree=4)\n",
        "opt_clf.fit(X_train, y_train)"
      ],
      "metadata": {
        "id": "VHHwfp3EBMSx"
      },
      "execution_count": null,
      "outputs": []
    },
    {
      "cell_type": "code",
      "source": [
        "y_pred = opt_clf.predict(X_test)"
      ],
      "metadata": {
        "id": "MVRKAP7wBRe0"
      },
      "execution_count": null,
      "outputs": []
    },
    {
      "cell_type": "code",
      "source": [
        "print(f'Number of negative samples: {Counter(y_pred)[0]}\\nNumber of positive samples: {Counter(y_pred)[1]}')"
      ],
      "metadata": {
        "id": "2cg5tmV9B-gX"
      },
      "execution_count": null,
      "outputs": []
    },
    {
      "cell_type": "markdown",
      "source": [
        "**Evaluate model**"
      ],
      "metadata": {
        "id": "X9Dm5CfCUzMx"
      }
    },
    {
      "cell_type": "code",
      "source": [
        "print(classification_report(y_test, y_pred))\n"
      ],
      "metadata": {
        "id": "PPMI7FNMB56U"
      },
      "execution_count": null,
      "outputs": []
    },
    {
      "cell_type": "code",
      "source": [
        "cf_matrix = metrics.cluster.contingency_matrix(labels_true=y_test, labels_pred=y_pred)\n",
        "plt.figure(figsize=(2,2))\n",
        "group_names = ['TN','FP','FN','TP']\n",
        "group_counts = ['{0:0.0f}'.format(value) for value in cf_matrix.flatten()]\n",
        "group_percentages = ['{0:.2%}'.format(value) for value in cf_matrix.flatten()/np.sum(cf_matrix)]\n",
        "labels_cf = [f'{v1}\\n{v2}\\n{v3}' for v1, v2, v3 in zip(group_names,group_counts,group_percentages)]\n",
        "labels_cf = np.asarray(labels_cf).reshape(2,2)\n",
        "sns.heatmap(cf_matrix, annot=labels_cf, fmt='', cmap='Greens')"
      ],
      "metadata": {
        "id": "oZbLYUNyCSfd"
      },
      "execution_count": null,
      "outputs": []
    },
    {
      "cell_type": "markdown",
      "source": [
        "**Compare models**<br/>\n",
        "Since our dataset had already been labeled, using supervised learning methods gives better results.<br/>\n",
        "\n",
        "as the credit card fraud job is an important job we must only use accurate model and model with accuricy high the 90 percent so the classification method is absolutely better the clustring"
      ],
      "metadata": {
        "id": "wZ_rA7jlU3Iq"
      }
    }
  ]
}